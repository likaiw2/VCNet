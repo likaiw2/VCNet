{
 "cells": [
  {
   "cell_type": "markdown",
   "metadata": {},
   "source": [
    "crop images to (128,128,128)"
   ]
  },
  {
   "cell_type": "code",
   "execution_count": 2,
   "metadata": {},
   "outputs": [],
   "source": [
    "import tools\n",
    "\n",
    "dataSourcePath = r\"C:\\Files\\Research\\dataSet0\"\n",
    "dataSavePath = r\"C:\\Files\\Research\\dataSet2\"\n",
    "\n",
    "for i in range(1,101):\n",
    "    path = f\"{dataSourcePath}/norm_mr.{i:03d}.raw\"\n",
    "    new_path = f\"{dataSavePath}/original_volume_{i:03d}.raw\"\n",
    "    tools.crop_raw_128(path,new_path)\n",
    "    # print(path)\n",
    "    # print(new_path)"
   ]
  }
 ],
 "metadata": {
  "kernelspec": {
   "display_name": "Python 3",
   "language": "python",
   "name": "python3"
  },
  "language_info": {
   "codemirror_mode": {
    "name": "ipython",
    "version": 3
   },
   "file_extension": ".py",
   "mimetype": "text/x-python",
   "name": "python",
   "nbconvert_exporter": "python",
   "pygments_lexer": "ipython3",
   "version": "3.11.0"
  }
 },
 "nbformat": 4,
 "nbformat_minor": 2
}
