{
 "cells": [
  {
   "cell_type": "code",
   "execution_count": null,
   "metadata": {},
   "outputs": [],
   "source": [
    "%matplotlib widget"
   ]
  },
  {
   "cell_type": "code",
   "execution_count": null,
   "metadata": {},
   "outputs": [],
   "source": [
    "import numpy as np\n",
    "\n",
    "def crop_raw(origin_pos,new_pos,size=(128,128,128)):\n",
    "    # read original volume data.\n",
    "    fileName = origin_pos\n",
    "    raw_data = np.fromfile(fileName, dtype=np.float32)\n",
    "    assert (raw_data[0]>=size[0] and raw_data[1]>=size[1] and raw_data[2]>=size[2])\n",
    "    \n",
    "raw_data = np.fromfile(r\"C:\\Files\\Research\\dataSet0\\norm_ct.001.raw\", dtype=np.float32).reshape((160,224,168))\n",
    "print(raw_data.shape)"
   ]
  },
  {
   "cell_type": "markdown",
   "metadata": {},
   "source": [
    "test generate mask"
   ]
  },
  {
   "cell_type": "code",
   "execution_count": null,
   "metadata": {},
   "outputs": [],
   "source": [
    "import numpy as np\n",
    "import VCNet.tools as tools\n",
    "\n",
    "raw_data = np.fromfile(r\"C:\\Files\\Research\\dataSet0\\norm_ct.001.raw\", dtype=np.float32).reshape((160,224,168))\n",
    "print(\"raw_data.shape:\",raw_data.shape)\n",
    "\n",
    "mask_volume,mask = tools.generate_mask(raw_data.shape,4)\n",
    "\n",
    "new_data = raw_data * (1-mask_volume)\n",
    "new_data.astype('float32').tofile(r\"C:\\Files\\Research\\test\\croped_001.raw\")"
   ]
  }
 ],
 "metadata": {
  "kernelspec": {
   "display_name": "Python 3",
   "language": "python",
   "name": "python3"
  },
  "language_info": {
   "codemirror_mode": {
    "name": "ipython",
    "version": 3
   },
   "file_extension": ".py",
   "mimetype": "text/x-python",
   "name": "python",
   "nbconvert_exporter": "python",
   "pygments_lexer": "ipython3",
   "version": "3.11.0"
  }
 },
 "nbformat": 4,
 "nbformat_minor": 2
}
