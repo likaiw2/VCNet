{
 "cells": [
  {
   "cell_type": "markdown",
   "metadata": {},
   "source": [
    "crop images to (128,128,128)"
   ]
  },
  {
   "cell_type": "code",
   "execution_count": null,
   "metadata": {},
   "outputs": [],
   "source": [
    "import tools\n",
    "\n",
    "dataSourcePath = \"/Users/wanglikai/Codes/Volume_Complete/dataSet0\"\n",
    "dataSavePath = \"/Users/wanglikai/Codes/Volume_Complete/dataSet1\"\n",
    "\n",
    "for i in range(1,101):\n",
    "    path = f\"{dataSourcePath}/norm_mr.{i:03d}.raw\"\n",
    "    new_path = f\"{dataSavePath}/original_volume_{i:03d}.raw\"\n",
    "    tools.crop_raw_128(path,new_path)\n",
    "    # print(path)\n",
    "    # print(new_path)"
   ]
  }
 ],
 "metadata": {
  "language_info": {
   "name": "python"
  }
 },
 "nbformat": 4,
 "nbformat_minor": 2
}
