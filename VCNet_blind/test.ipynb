{
 "cells": [
  {
   "cell_type": "code",
   "execution_count": 16,
   "metadata": {},
   "outputs": [],
   "source": [
    "import torch\n",
    "from torch import nn\n",
    "from torch.nn import functional as F\n",
    "from torch.nn.utils import spectral_norm\n",
    "\n",
    "from modeling.base import BaseNetwork\n",
    "from modules.blocks import ResBlock, ConvBlock, PCBlock\n",
    "\n",
    "\n",
    "class MPN(BaseNetwork):\n",
    "    def __init__(self, base_n_channels, neck_n_channels):\n",
    "        super(MPN, self).__init__()\n",
    "        assert base_n_channels >= 4, \"Base num channels should be at least 4\"\n",
    "        assert neck_n_channels >= 16, \"Neck num channels should be at least 16\"\n",
    "        self.rb1 = ResBlock(channels_in=3, channels_out=base_n_channels, kernel_size=5, stride=2, padding=2, dilation=1)\n",
    "        self.rb2 = ResBlock(channels_in=base_n_channels, channels_out=base_n_channels * 2, kernel_size=3, stride=2)\n",
    "        self.rb3 = ResBlock(channels_in=base_n_channels * 2, channels_out=base_n_channels * 2, kernel_size=3, stride=1, padding=2, dilation=2)\n",
    "        self.rb4 = ResBlock(channels_in=base_n_channels * 2, channels_out=neck_n_channels, kernel_size=3, stride=1, padding=4, dilation=4)\n",
    "\n",
    "        self.upsample = nn.UpsamplingNearest2d(scale_factor=2.0)\n",
    "\n",
    "        self.rb5 = ResBlock(channels_in=base_n_channels * 2, channels_out=base_n_channels * 2, kernel_size=3, stride=1)\n",
    "        self.rb6 = ResBlock(channels_in=base_n_channels * 2, channels_out=base_n_channels, kernel_size=3, stride=1)\n",
    "        self.rb7 = ResBlock(channels_in=base_n_channels, channels_out=base_n_channels // 2, kernel_size=3, stride=1)\n",
    "\n",
    "        self.cb1 = ConvBlock(channels_in=base_n_channels // 2, channels_out=base_n_channels // 4, kernel_size=3, stride=1, padding=1)\n",
    "        self.conv1 = nn.Conv2d(base_n_channels // 4, 1, kernel_size=3, stride=1, padding=1)\n",
    "\n",
    "        self.init_weights(init_type=\"normal\", gain=0.02)\n",
    "\n",
    "    def forward(self, x):\n",
    "        out = self.rb1(x)\n",
    "        out = self.rb2(out)\n",
    "        # mid_out = out\n",
    "        out = self.rb3(out)\n",
    "        mid_out = out\n",
    "        neck = self.rb4(out)\n",
    "        # bottleneck here\n",
    "\n",
    "        out = self.rb5(neck)\n",
    "        out = self.upsample(out)\n",
    "        out = self.rb6(out)\n",
    "        out = self.upsample(out)\n",
    "        out = self.rb7(out)\n",
    "\n",
    "        out = self.cb1(out)\n",
    "        out = self.conv1(out)\n",
    "\n",
    "        return torch.sigmoid(out), neck,mid_out"
   ]
  },
  {
   "cell_type": "code",
   "execution_count": 17,
   "metadata": {},
   "outputs": [
    {
     "name": "stdout",
     "output_type": "stream",
     "text": [
      "torch.Size([2, 128, 64, 64])\n"
     ]
    }
   ],
   "source": [
    "mpn = MPN(64, 128)\n",
    "inp = torch.rand((2, 3, 256, 256))\n",
    "out, neck,mid_out = mpn(inp)\n",
    "# print(out.shape,neck.shape)\n",
    "print(mid_out.shape)"
   ]
  }
 ],
 "metadata": {
  "kernelspec": {
   "display_name": "base",
   "language": "python",
   "name": "python3"
  },
  "language_info": {
   "codemirror_mode": {
    "name": "ipython",
    "version": 3
   },
   "file_extension": ".py",
   "mimetype": "text/x-python",
   "name": "python",
   "nbconvert_exporter": "python",
   "pygments_lexer": "ipython3",
   "version": "3.11.6"
  }
 },
 "nbformat": 4,
 "nbformat_minor": 2
}
